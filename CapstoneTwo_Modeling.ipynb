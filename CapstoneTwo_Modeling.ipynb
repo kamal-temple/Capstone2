{
 "cells": [
  {
   "cell_type": "markdown",
   "metadata": {},
   "source": [
    "# Capstone2: Modeling - West Nile Virus (WNV) Prediction"
   ]
  },
  {
   "cell_type": "code",
   "execution_count": 2,
   "metadata": {},
   "outputs": [],
   "source": [
    "import pandas as pd\n",
    "import numpy as np\n",
    "import matplotlib.pyplot as plt\n",
    "import seaborn as sns\n",
    "from sklearn.preprocessing import LabelEncoder\n",
    "from sklearn.metrics import auc, roc_curve, roc_auc_score\n",
    "%matplotlib inline \n",
    "import warnings\n",
    "warnings.filterwarnings('ignore')"
   ]
  },
  {
   "cell_type": "code",
   "execution_count": 3,
   "metadata": {},
   "outputs": [
    {
     "data": {
      "text/html": [
       "<div>\n",
       "<style scoped>\n",
       "    .dataframe tbody tr th:only-of-type {\n",
       "        vertical-align: middle;\n",
       "    }\n",
       "\n",
       "    .dataframe tbody tr th {\n",
       "        vertical-align: top;\n",
       "    }\n",
       "\n",
       "    .dataframe thead th {\n",
       "        text-align: right;\n",
       "    }\n",
       "</style>\n",
       "<table border=\"1\" class=\"dataframe\">\n",
       "  <thead>\n",
       "    <tr style=\"text-align: right;\">\n",
       "      <th></th>\n",
       "      <th>Latitude</th>\n",
       "      <th>Longitude</th>\n",
       "      <th>NumMosquitos</th>\n",
       "      <th>Tmax</th>\n",
       "      <th>Tmin</th>\n",
       "      <th>Tavg</th>\n",
       "      <th>PrecipTotal</th>\n",
       "      <th>StnPressure</th>\n",
       "      <th>SeaLevel</th>\n",
       "      <th>AvgSpeed</th>\n",
       "      <th>WnvPresent</th>\n",
       "      <th>DayOfWeek</th>\n",
       "      <th>WeekNumber</th>\n",
       "      <th>IsWeekend</th>\n",
       "      <th>Quarter</th>\n",
       "      <th>Season</th>\n",
       "      <th>Species_CULEX PIPIENS</th>\n",
       "      <th>Species_CULEX PIPIENS/RESTUANS</th>\n",
       "      <th>Species_CULEX RESTUANS</th>\n",
       "    </tr>\n",
       "  </thead>\n",
       "  <tbody>\n",
       "    <tr>\n",
       "      <th>0</th>\n",
       "      <td>41.644612</td>\n",
       "      <td>-87.604498</td>\n",
       "      <td>12</td>\n",
       "      <td>91.0</td>\n",
       "      <td>71.5</td>\n",
       "      <td>81.5</td>\n",
       "      <td>0.000</td>\n",
       "      <td>29.285</td>\n",
       "      <td>29.960</td>\n",
       "      <td>6.55</td>\n",
       "      <td>0</td>\n",
       "      <td>3</td>\n",
       "      <td>31</td>\n",
       "      <td>0</td>\n",
       "      <td>3</td>\n",
       "      <td>2</td>\n",
       "      <td>1</td>\n",
       "      <td>0</td>\n",
       "      <td>0</td>\n",
       "    </tr>\n",
       "    <tr>\n",
       "      <th>1</th>\n",
       "      <td>41.644612</td>\n",
       "      <td>-87.604498</td>\n",
       "      <td>52</td>\n",
       "      <td>91.5</td>\n",
       "      <td>72.5</td>\n",
       "      <td>82.5</td>\n",
       "      <td>0.685</td>\n",
       "      <td>29.085</td>\n",
       "      <td>29.750</td>\n",
       "      <td>8.90</td>\n",
       "      <td>0</td>\n",
       "      <td>1</td>\n",
       "      <td>32</td>\n",
       "      <td>0</td>\n",
       "      <td>3</td>\n",
       "      <td>2</td>\n",
       "      <td>1</td>\n",
       "      <td>0</td>\n",
       "      <td>0</td>\n",
       "    </tr>\n",
       "    <tr>\n",
       "      <th>2</th>\n",
       "      <td>41.644612</td>\n",
       "      <td>-87.604498</td>\n",
       "      <td>30</td>\n",
       "      <td>80.5</td>\n",
       "      <td>71.5</td>\n",
       "      <td>76.5</td>\n",
       "      <td>0.530</td>\n",
       "      <td>29.200</td>\n",
       "      <td>29.880</td>\n",
       "      <td>6.45</td>\n",
       "      <td>0</td>\n",
       "      <td>2</td>\n",
       "      <td>33</td>\n",
       "      <td>0</td>\n",
       "      <td>3</td>\n",
       "      <td>2</td>\n",
       "      <td>1</td>\n",
       "      <td>0</td>\n",
       "      <td>0</td>\n",
       "    </tr>\n",
       "    <tr>\n",
       "      <th>3</th>\n",
       "      <td>41.644612</td>\n",
       "      <td>-87.604498</td>\n",
       "      <td>4</td>\n",
       "      <td>90.0</td>\n",
       "      <td>69.5</td>\n",
       "      <td>80.0</td>\n",
       "      <td>0.625</td>\n",
       "      <td>29.260</td>\n",
       "      <td>29.935</td>\n",
       "      <td>8.95</td>\n",
       "      <td>0</td>\n",
       "      <td>2</td>\n",
       "      <td>34</td>\n",
       "      <td>0</td>\n",
       "      <td>3</td>\n",
       "      <td>2</td>\n",
       "      <td>1</td>\n",
       "      <td>0</td>\n",
       "      <td>0</td>\n",
       "    </tr>\n",
       "    <tr>\n",
       "      <th>4</th>\n",
       "      <td>41.644612</td>\n",
       "      <td>-87.604498</td>\n",
       "      <td>4</td>\n",
       "      <td>80.5</td>\n",
       "      <td>69.0</td>\n",
       "      <td>75.0</td>\n",
       "      <td>0.220</td>\n",
       "      <td>29.135</td>\n",
       "      <td>29.815</td>\n",
       "      <td>7.20</td>\n",
       "      <td>0</td>\n",
       "      <td>4</td>\n",
       "      <td>34</td>\n",
       "      <td>0</td>\n",
       "      <td>3</td>\n",
       "      <td>2</td>\n",
       "      <td>1</td>\n",
       "      <td>0</td>\n",
       "      <td>0</td>\n",
       "    </tr>\n",
       "  </tbody>\n",
       "</table>\n",
       "</div>"
      ],
      "text/plain": [
       "    Latitude  Longitude  NumMosquitos  Tmax  Tmin  Tavg  PrecipTotal  \\\n",
       "0  41.644612 -87.604498            12  91.0  71.5  81.5        0.000   \n",
       "1  41.644612 -87.604498            52  91.5  72.5  82.5        0.685   \n",
       "2  41.644612 -87.604498            30  80.5  71.5  76.5        0.530   \n",
       "3  41.644612 -87.604498             4  90.0  69.5  80.0        0.625   \n",
       "4  41.644612 -87.604498             4  80.5  69.0  75.0        0.220   \n",
       "\n",
       "   StnPressure  SeaLevel  AvgSpeed  WnvPresent  DayOfWeek  WeekNumber  \\\n",
       "0       29.285    29.960      6.55           0          3          31   \n",
       "1       29.085    29.750      8.90           0          1          32   \n",
       "2       29.200    29.880      6.45           0          2          33   \n",
       "3       29.260    29.935      8.95           0          2          34   \n",
       "4       29.135    29.815      7.20           0          4          34   \n",
       "\n",
       "   IsWeekend  Quarter  Season  Species_CULEX PIPIENS  \\\n",
       "0          0        3       2                      1   \n",
       "1          0        3       2                      1   \n",
       "2          0        3       2                      1   \n",
       "3          0        3       2                      1   \n",
       "4          0        3       2                      1   \n",
       "\n",
       "   Species_CULEX PIPIENS/RESTUANS  Species_CULEX RESTUANS  \n",
       "0                               0                       0  \n",
       "1                               0                       0  \n",
       "2                               0                       0  \n",
       "3                               0                       0  \n",
       "4                               0                       0  "
      ]
     },
     "execution_count": 3,
     "metadata": {},
     "output_type": "execute_result"
    }
   ],
   "source": [
    "df=pd.read_csv('CleanData_ForModeling.csv')\n",
    "df.head()"
   ]
  },
  {
   "cell_type": "code",
   "execution_count": 4,
   "metadata": {},
   "outputs": [
    {
     "name": "stdout",
     "output_type": "stream",
     "text": [
      "7782\n",
      "387\n"
     ]
    }
   ],
   "source": [
    "print(df['WnvPresent'].value_counts()[0])\n",
    "print(df['WnvPresent'].value_counts()[1])"
   ]
  },
  {
   "cell_type": "markdown",
   "metadata": {},
   "source": [
    "### This clearly shows that the target class is very imbalence. So we want to use combination of oversampling technique and undersampling technique to balance them."
   ]
  },
  {
   "cell_type": "code",
   "execution_count": 7,
   "metadata": {},
   "outputs": [
    {
     "name": "stdout",
     "output_type": "stream",
     "text": [
      "Collecting imbalanced-learn\n",
      "  Downloading imbalanced_learn-0.11.0-py3-none-any.whl (235 kB)\n",
      "\u001b[2K     \u001b[90m━━━━━━━━━━━━━━━━━━━━━━━━━━━━━━━━━━━━━━━\u001b[0m \u001b[32m235.6/235.6 kB\u001b[0m \u001b[31m1.4 MB/s\u001b[0m eta \u001b[36m0:00:00\u001b[0m00:01\u001b[0m00:01\u001b[0m\n",
      "\u001b[?25hRequirement already satisfied: threadpoolctl>=2.0.0 in /Users/sabitabaral/opt/anaconda3/lib/python3.9/site-packages (from imbalanced-learn) (2.2.0)\n",
      "Collecting joblib>=1.1.1\n",
      "  Downloading joblib-1.3.2-py3-none-any.whl (302 kB)\n",
      "\u001b[2K     \u001b[90m━━━━━━━━━━━━━━━━━━━━━━━━━━━━━━━━━━━━━━━\u001b[0m \u001b[32m302.2/302.2 kB\u001b[0m \u001b[31m3.4 MB/s\u001b[0m eta \u001b[36m0:00:00\u001b[0m00:01\u001b[0m00:01\u001b[0m\n",
      "\u001b[?25hRequirement already satisfied: scikit-learn>=1.0.2 in /Users/sabitabaral/opt/anaconda3/lib/python3.9/site-packages (from imbalanced-learn) (1.0.2)\n",
      "Requirement already satisfied: scipy>=1.5.0 in /Users/sabitabaral/opt/anaconda3/lib/python3.9/site-packages (from imbalanced-learn) (1.9.1)\n",
      "Requirement already satisfied: numpy>=1.17.3 in /Users/sabitabaral/opt/anaconda3/lib/python3.9/site-packages (from imbalanced-learn) (1.24.4)\n",
      "Installing collected packages: joblib, imbalanced-learn\n",
      "  Attempting uninstall: joblib\n",
      "    Found existing installation: joblib 1.1.0\n",
      "    Uninstalling joblib-1.1.0:\n",
      "      Successfully uninstalled joblib-1.1.0\n",
      "\u001b[31mERROR: pip's dependency resolver does not currently take into account all the packages that are installed. This behaviour is the source of the following dependency conflicts.\n",
      "pandas-profiling 2.9.0 requires visions[type_image_path]==0.5.0, but you have visions 0.7.5 which is incompatible.\u001b[0m\u001b[31m\n",
      "\u001b[0mSuccessfully installed imbalanced-learn-0.11.0 joblib-1.3.2\n",
      "Note: you may need to restart the kernel to use updated packages.\n"
     ]
    }
   ],
   "source": [
    "!pip install imbalanced-learn"
   ]
  },
  {
   "cell_type": "code",
   "execution_count": 10,
   "metadata": {},
   "outputs": [],
   "source": [
    "from sklearn.model_selection import train_test_split\n",
    "from imblearn.over_sampling import SMOTE\n",
    "from imblearn.under_sampling import RandomUnderSampler\n",
    "from imblearn.pipeline import Pipeline\n",
    "\n",
    "# Define the SMOTE and RandomUnderSampler techniques\n",
    "smote = SMOTE(sampling_strategy='minority', random_state=42)\n",
    "rus = RandomUnderSampler(sampling_strategy='majority', random_state=42)\n",
    "\n",
    "# Create a pipeline with SMOTE and RandomUnderSampler\n",
    "sampling_pipeline = Pipeline([\n",
    "    ('smote', smote),\n",
    "    ('rus', rus)\n",
    "])\n",
    "\n",
    "# Apply the sampling techniques to balance the dataset\n",
    "X = df.drop(columns=['WnvPresent'])\n",
    "y = df['WnvPresent']\n",
    "X_resampled, y_resampled = sampling_pipeline.fit_resample(X, y)\n",
    "\n",
    "X_train, X_test, y_train, y_test = train_test_split(X_resampled, y_resampled, test_size=0.3, random_state=42)"
   ]
  },
  {
   "cell_type": "code",
   "execution_count": 11,
   "metadata": {},
   "outputs": [
    {
     "name": "stdout",
     "output_type": "stream",
     "text": [
      "(10894, 18)\n",
      "(4670, 18)\n",
      "(10894,)\n",
      "(4670,)\n"
     ]
    }
   ],
   "source": [
    "print(X_train.shape)\n",
    "print(X_test.shape)\n",
    "print(y_train.shape)\n",
    "print(y_test.shape)"
   ]
  },
  {
   "cell_type": "markdown",
   "metadata": {},
   "source": [
    "### This is the classification problem of supervised learning. I will test following different models to this problem."
   ]
  },
  {
   "cell_type": "markdown",
   "metadata": {},
   "source": [
    "# 1. Logistic Regression"
   ]
  },
  {
   "cell_type": "code",
   "execution_count": 12,
   "metadata": {},
   "outputs": [],
   "source": [
    "from sklearn.model_selection import train_test_split\n",
    "from sklearn.model_selection import cross_val_score\n",
    "from sklearn.preprocessing import MinMaxScaler\n",
    "from sklearn.linear_model import LogisticRegression\n",
    "from sklearn.model_selection import GridSearchCV\n",
    "from sklearn.ensemble import RandomForestClassifier\n",
    "from sklearn.metrics import accuracy_score\n",
    "from sklearn.model_selection import learning_curve"
   ]
  },
  {
   "cell_type": "code",
   "execution_count": 13,
   "metadata": {},
   "outputs": [
    {
     "name": "stdout",
     "output_type": "stream",
     "text": [
      "   C_parameter  Accuracy\n",
      "0        0.001  0.731263\n",
      "1        0.010  0.768522\n",
      "2        0.100   0.77045\n",
      "3        1.000  0.759957\n",
      "4       10.000  0.765953\n",
      "5      100.000  0.768522\n",
      "   C_parameter ROC_AUC_Score\n",
      "0        0.001      0.807105\n",
      "1        0.010      0.867768\n",
      "2        0.100       0.86699\n",
      "3        1.000      0.858335\n",
      "4       10.000       0.86311\n",
      "5      100.000      0.858776\n"
     ]
    }
   ],
   "source": [
    "C_param_range = [0.001,0.01,0.1,1,10,100]\n",
    "\n",
    "table = pd.DataFrame(columns = ['C_parameter','Accuracy'])\n",
    "table['C_parameter'] = C_param_range\n",
    "\n",
    "\n",
    "table2 = pd.DataFrame(columns = ['C_parameter','ROC_AUC_Score'])\n",
    "table2['C_parameter'] = C_param_range\n",
    "j = 0\n",
    "for i in C_param_range:\n",
    "    \n",
    "    # Apply logistic regression model to training data\n",
    "    Logreg = LogisticRegression(penalty = 'l2', C = i,random_state = 40)\n",
    "    Logreg.fit(X_train,y_train)\n",
    "    \n",
    "    # Predict using model\n",
    "    y_pred_lr = Logreg.predict(X_test)\n",
    "    \n",
    "    # Saving accuracy score in table\n",
    "    table.iloc[j,1] = accuracy_score(y_test,y_pred_lr)\n",
    "    \n",
    "    \n",
    "    y_scores_lr = Logreg.predict_proba(X_test)[:,1]\n",
    "    table2.iloc[j,1] = roc_auc_score(y_test,y_scores_lr)\n",
    "    j += 1\n",
    "    \n",
    "print(table)  \n",
    "print(table2)"
   ]
  },
  {
   "cell_type": "code",
   "execution_count": 18,
   "metadata": {},
   "outputs": [
    {
     "name": "stdout",
     "output_type": "stream",
     "text": [
      "0.8677681584739545\n",
      "[[1781  569]\n",
      " [ 512 1808]]\n"
     ]
    }
   ],
   "source": [
    "from sklearn.metrics import confusion_matrix\n",
    "from sklearn.metrics import auc, roc_curve, roc_auc_score\n",
    "Logreg = LogisticRegression(penalty = 'l2', C = 0.01,random_state = 40)\n",
    "Logreg.fit(X_train,y_train)\n",
    "y_pred_lr = Logreg.predict(X_test)\n",
    "y_scores_lr = Logreg.predict_proba(X_test)\n",
    "y_scores_lr = y_scores_lr[:,1]\n",
    "auroc_lr = roc_auc_score(y_test, y_scores_lr)\n",
    "print(auroc_lr)\n",
    "cnf_matrix = confusion_matrix(y_test, y_pred_lr)\n",
    "print(cnf_matrix)"
   ]
  },
  {
   "cell_type": "markdown",
   "metadata": {},
   "source": [
    "### This shows that C parameter value of 0.01 and 0.1 are giving better ROC AUC score."
   ]
  },
  {
   "cell_type": "code",
   "execution_count": 19,
   "metadata": {},
   "outputs": [
    {
     "name": "stdout",
     "output_type": "stream",
     "text": [
      "[0.83009905 0.84088866 0.83274486 0.8273661  0.84895451]\n",
      "Mean cross validation test score: 0.8360106382978723\n",
      "Mean cross validation train score: 0.8760870691903841\n",
      "Standard deviation in cv test scores: 0.007895304703304268\n"
     ]
    }
   ],
   "source": [
    "from sklearn.model_selection import cross_val_score\n",
    "cv_scores_test= cross_val_score(Logreg,X_test,y_test,cv=5,scoring='roc_auc')\n",
    "cv_scores_train= cross_val_score(Logreg,X_train,y_train,cv=5,scoring='roc_auc')\n",
    "print(cv_scores_test)\n",
    "cv_scores_lr_test= cv_scores_test.mean()\n",
    "cv_scores_lr_train= cv_scores_train.mean()\n",
    "cv_scores_std_test_lr= cv_scores_test.std()\n",
    "print ('Mean cross validation test score: ' +str(cv_scores_lr_test))\n",
    "print ('Mean cross validation train score: ' +str(cv_scores_lr_train))\n",
    "print ('Standard deviation in cv test scores: ' +str(cv_scores_std_test_lr))"
   ]
  },
  {
   "cell_type": "markdown",
   "metadata": {},
   "source": [
    "# 2. K-Nearest Neighbor(KNN)"
   ]
  },
  {
   "cell_type": "code",
   "execution_count": 20,
   "metadata": {},
   "outputs": [],
   "source": [
    "from sklearn.neighbors import KNeighborsClassifier\n",
    "from sklearn.metrics import accuracy_score, classification_report"
   ]
  },
  {
   "cell_type": "code",
   "execution_count": 22,
   "metadata": {},
   "outputs": [
    {
     "name": "stdout",
     "output_type": "stream",
     "text": [
      "   N_neighbors  Accuracy\n",
      "0            3  0.921199\n",
      "1            5  0.904069\n",
      "2           10  0.888865\n",
      "3           25  0.847323\n",
      "4           50  0.824411\n",
      "5          100  0.807709\n",
      "   N_neighbors ROC_AUC_Score\n",
      "0            3      0.961649\n",
      "1            5      0.962593\n",
      "2           10      0.953637\n",
      "3           25      0.931565\n",
      "4           50      0.916359\n",
      "5          100      0.894686\n"
     ]
    }
   ],
   "source": [
    "N_neighbors_range = [3,5,10,25,50,100]\n",
    "\n",
    "table = pd.DataFrame(columns = ['N_neighbors','Accuracy'])\n",
    "table['N_neighbors'] = N_neighbors_range\n",
    "\n",
    "table2 = pd.DataFrame(columns = ['N_neighbors','ROC_AUC_Score'])\n",
    "table2['N_neighbors'] = N_neighbors_range\n",
    "\n",
    "j = 0\n",
    "for i in N_neighbors_range:\n",
    "    \n",
    "    # Apply logistic regression model to training data\n",
    "    knn = KNeighborsClassifier(n_neighbors=i)\n",
    "    knn.fit(X_train,y_train)\n",
    "    \n",
    "    # Predict using model\n",
    "    pred_knn = knn.predict(X_test)\n",
    "    \n",
    "    # Saving accuracy score in table\n",
    "    table.iloc[j,1] = accuracy_score(y_test,pred_knn)\n",
    "    y_scores_knn = knn.predict_proba(X_test)[:,1]\n",
    "#    auroc_lr = roc_auc_score(y_test, y_scores_lr)\n",
    "    table2.iloc[j,1] = roc_auc_score(y_test,y_scores_knn)\n",
    "    j += 1\n",
    "    \n",
    "print(table)\n",
    "print(table2)"
   ]
  },
  {
   "cell_type": "markdown",
   "metadata": {},
   "source": [
    "### Looks like Accuracy is good for n_neighbors=5. Neither too large not too small n_neighbors is good."
   ]
  },
  {
   "cell_type": "code",
   "execution_count": 23,
   "metadata": {
    "scrolled": true
   },
   "outputs": [
    {
     "name": "stdout",
     "output_type": "stream",
     "text": [
      "              precision    recall  f1-score   support\n",
      "\n",
      "           0       0.96      0.85      0.90      2350\n",
      "           1       0.86      0.96      0.91      2320\n",
      "\n",
      "    accuracy                           0.90      4670\n",
      "   macro avg       0.91      0.90      0.90      4670\n",
      "weighted avg       0.91      0.90      0.90      4670\n",
      "\n",
      "0.9625929933969185\n",
      "[[1987  363]\n",
      " [  85 2235]]\n"
     ]
    }
   ],
   "source": [
    "knn = KNeighborsClassifier(n_neighbors=5)\n",
    "knn.fit(X_train, y_train)\n",
    "pred_knn= knn.predict(X_test)\n",
    "print(classification_report(y_test, pred_knn))\n",
    "Accuracy_knn=knn.score(X_test,y_test)\n",
    "y_scores_knn = knn.predict_proba(X_test)[:,1]\n",
    "auroc_knn = roc_auc_score(y_test, y_scores_knn)\n",
    "print(auroc_knn)\n",
    "print(confusion_matrix(y_test, pred_knn))"
   ]
  },
  {
   "cell_type": "code",
   "execution_count": 24,
   "metadata": {},
   "outputs": [
    {
     "name": "stdout",
     "output_type": "stream",
     "text": [
      "[0.91093635 0.93108263 0.92375275 0.92221203 0.93294433]\n",
      "Mean cross validation test score: 0.9241856199559795\n",
      "Mean cross validation train score: 0.9527821906708394\n",
      "Standard deviation in cv test scores: 0.007796271869324786\n"
     ]
    }
   ],
   "source": [
    "from sklearn.model_selection import cross_val_score\n",
    "cv_scores_test= cross_val_score(knn,X_test,y_test,cv=5,scoring='roc_auc')\n",
    "cv_scores_train= cross_val_score(knn,X_train,y_train,cv=5,scoring='roc_auc')\n",
    "print(cv_scores_test)\n",
    "cv_scores_knn_test= cv_scores_test.mean()\n",
    "cv_scores_knn_train= cv_scores_train.mean()\n",
    "cv_scores_std_test_knn= cv_scores_test.std()\n",
    "print ('Mean cross validation test score: ' +str(cv_scores_knn_test))\n",
    "print ('Mean cross validation train score: ' +str(cv_scores_knn_train))\n",
    "print ('Standard deviation in cv test scores: ' +str(cv_scores_std_test_knn))"
   ]
  },
  {
   "cell_type": "markdown",
   "metadata": {},
   "source": [
    "# 3. Support Vector Machine (SVM)"
   ]
  },
  {
   "cell_type": "code",
   "execution_count": 41,
   "metadata": {},
   "outputs": [
    {
     "name": "stdout",
     "output_type": "stream",
     "text": [
      "[[2102  248]\n",
      " [ 639 1681]]\n",
      "0.9625929933969185\n"
     ]
    }
   ],
   "source": [
    "from sklearn.svm import SVC\n",
    "svm = SVC(kernel='linear')\n",
    "from sklearn.model_selection import train_test_split\n",
    "X = df.drop(columns=['WnvPresent'])\n",
    "y = df['WnvPresent']\n",
    "X_train, X_test, y_train, y_test = train_test_split(X_resampled, y_resampled, test_size=0.3, random_state=42)\n",
    "svm.fit(X_train, y_train)\n",
    "pred_svm= svm.predict(X_test)\n",
    "print(confusion_matrix(y_test, pred_svm))\n",
    "Accuracy_svm=svm.score(X_test,y_test)\n",
    "y_scores_svm = knn.predict_proba(X_test)[:,1]\n",
    "auroc_svm = roc_auc_score(y_test, y_scores_svm)\n",
    "print(auroc_svm)"
   ]
  },
  {
   "cell_type": "code",
   "execution_count": 27,
   "metadata": {},
   "outputs": [
    {
     "name": "stdout",
     "output_type": "stream",
     "text": [
      "[0.89085657 0.90369589 0.87118947 0.88273569 0.8948872 ]\n",
      "Mean cross validation test score: 0.8886729640498899\n",
      "Mean cross validation train score: 0.8953735845308686\n",
      "Standard deviation in cv test scores: 0.011045332480589722\n"
     ]
    }
   ],
   "source": [
    "from sklearn.model_selection import cross_val_score\n",
    "cv_scores_test= cross_val_score(svm,X_test,y_test,cv=5,scoring='roc_auc')\n",
    "cv_scores_train= cross_val_score(svm,X_train,y_train,cv=5,scoring='roc_auc')\n",
    "print(cv_scores_test)\n",
    "cv_scores_svm_test= cv_scores_test.mean()\n",
    "cv_scores_svm_train= cv_scores_train.mean()\n",
    "cv_scores_std_test_svm= cv_scores_test.std()\n",
    "print ('Mean cross validation test score: ' +str(cv_scores_svm_test))\n",
    "print ('Mean cross validation train score: ' +str(cv_scores_svm_train))\n",
    "print ('Standard deviation in cv test scores: ' +str(cv_scores_std_test_svm))"
   ]
  },
  {
   "cell_type": "markdown",
   "metadata": {},
   "source": [
    "# 4. Random Forest"
   ]
  },
  {
   "cell_type": "code",
   "execution_count": 28,
   "metadata": {},
   "outputs": [
    {
     "name": "stdout",
     "output_type": "stream",
     "text": [
      "[[1989  361]\n",
      " [ 202 2118]]\n",
      "0.9479153521643432\n"
     ]
    }
   ],
   "source": [
    "from sklearn.ensemble import RandomForestClassifier\n",
    "rf = RandomForestClassifier(n_estimators=100, max_depth=5, random_state=42)\n",
    "from sklearn.model_selection import train_test_split\n",
    "X = df.drop(columns=['WnvPresent'])\n",
    "y = df['WnvPresent']\n",
    "X_train, X_test, y_train, y_test = train_test_split(X_resampled, y_resampled, test_size=0.3, random_state=42)\n",
    "rf.fit(X_train, y_train)\n",
    "pred_rf= rf.predict(X_test)\n",
    "#print(accuracy_score(y_test, pred_rf))\n",
    "Accuracy_rf=rf.score(X_test,y_test)\n",
    "#print(Accuracy_rf)\n",
    "print(confusion_matrix(y_test, pred_rf))\n",
    "y_scores_rf = rf.predict_proba(X_test)[:,1]\n",
    "auroc_rf = roc_auc_score(y_test, y_scores_rf)\n",
    "print(auroc_rf)"
   ]
  },
  {
   "cell_type": "code",
   "execution_count": 29,
   "metadata": {},
   "outputs": [
    {
     "name": "stdout",
     "output_type": "stream",
     "text": [
      "[0.94643709 0.94866104 0.94760409 0.94336253 0.95230191]\n",
      "Mean cross validation test score: 0.9476733308877476\n",
      "Mean cross validation train score: 0.9457199913417587\n",
      "Standard deviation in cv test scores: 0.0029160045631184215\n"
     ]
    }
   ],
   "source": [
    "from sklearn.model_selection import cross_val_score\n",
    "cv_scores_test= cross_val_score(rf,X_test,y_test,cv=5,scoring='roc_auc')\n",
    "cv_scores_train= cross_val_score(rf,X_train,y_train,cv=5,scoring='roc_auc')\n",
    "print(cv_scores_test)\n",
    "cv_scores_rf_test= cv_scores_test.mean()\n",
    "cv_scores_rf_train= cv_scores_train.mean()\n",
    "cv_scores_std_test_rf= cv_scores_test.std()\n",
    "print ('Mean cross validation test score: ' +str(cv_scores_rf_test))\n",
    "print ('Mean cross validation train score: ' +str(cv_scores_rf_train))\n",
    "print ('Standard deviation in cv test scores: ' +str(cv_scores_std_test_rf))"
   ]
  },
  {
   "cell_type": "markdown",
   "metadata": {},
   "source": [
    "# 5. Gradient Boosting"
   ]
  },
  {
   "cell_type": "code",
   "execution_count": 30,
   "metadata": {},
   "outputs": [
    {
     "name": "stdout",
     "output_type": "stream",
     "text": [
      "[[2193  157]\n",
      " [ 156 2164]]\n",
      "0.9835096294937637\n"
     ]
    }
   ],
   "source": [
    "from sklearn.ensemble import GradientBoostingClassifier\n",
    "from sklearn.model_selection import train_test_split\n",
    "X = df.drop(columns=['WnvPresent'])\n",
    "y = df['WnvPresent']\n",
    "X_train, X_test, y_train, y_test = train_test_split(X_resampled, y_resampled, test_size=0.3, random_state=42)\n",
    "gbc = GradientBoostingClassifier(n_estimators=100, learning_rate=0.1, max_depth=3, random_state=42)\n",
    "gbc.fit(X_train, y_train)\n",
    "pred_gbc = gbc.predict(X_test)\n",
    "#print(accuracy_score(y_test, pred_gbc))\n",
    "Accuracy_gbc=gbc.score(X_test,y_test)\n",
    "#print(Accuracy_gbc)\n",
    "print(confusion_matrix(y_test, pred_gbc))\n",
    "\n",
    "y_scores_gbc = gbc.predict_proba(X_test)[:,1]\n",
    "auroc_gbc = roc_auc_score(y_test, y_scores_gbc)\n",
    "print(auroc_gbc)"
   ]
  },
  {
   "cell_type": "code",
   "execution_count": 31,
   "metadata": {},
   "outputs": [
    {
     "name": "stdout",
     "output_type": "stream",
     "text": [
      "[0.97949835 0.98114453 0.97981245 0.98028247 0.98151825]\n",
      "Mean cross validation test score: 0.9804512105649303\n",
      "Mean cross validation train score: 0.9810966330404302\n",
      "Standard deviation in cv test scores: 0.000769896174384105\n"
     ]
    }
   ],
   "source": [
    "from sklearn.model_selection import cross_val_score\n",
    "cv_scores_test= cross_val_score(gbc,X_test,y_test,cv=5,scoring='roc_auc')\n",
    "cv_scores_train= cross_val_score(gbc,X_train,y_train,cv=5,scoring='roc_auc')\n",
    "print(cv_scores_test)\n",
    "cv_scores_gbc_test= cv_scores_test.mean()\n",
    "cv_scores_gbc_train= cv_scores_train.mean()\n",
    "cv_scores_std_test_gbc= cv_scores_test.std()\n",
    "print ('Mean cross validation test score: ' +str(cv_scores_gbc_test))\n",
    "print ('Mean cross validation train score: ' +str(cv_scores_gbc_train))\n",
    "print ('Standard deviation in cv test scores: ' +str(cv_scores_std_test_gbc))"
   ]
  },
  {
   "cell_type": "markdown",
   "metadata": {},
   "source": [
    "# 6. Naive Bayes"
   ]
  },
  {
   "cell_type": "code",
   "execution_count": 32,
   "metadata": {},
   "outputs": [
    {
     "name": "stdout",
     "output_type": "stream",
     "text": [
      "[[1287 1063]\n",
      " [ 192 2128]]\n",
      "0.8788367571533382\n"
     ]
    }
   ],
   "source": [
    "from sklearn.naive_bayes import GaussianNB\n",
    "from sklearn.metrics import accuracy_score, classification_report\n",
    "from sklearn.model_selection import train_test_split\n",
    "X = df.drop(columns=['WnvPresent'])\n",
    "y = df['WnvPresent']\n",
    "X_train, X_test, y_train, y_test = train_test_split(X_resampled, y_resampled, test_size=0.3, random_state=42)\n",
    "nb = GaussianNB()\n",
    "nb.fit(X_train, y_train)\n",
    "pred_nb = nb.predict(X_test)\n",
    "#print(accuracy_score(y_test, pred_nb))\n",
    "Accuracy_nb=nb.score(X_test,y_test)\n",
    "#print(Accuracy_nb)\n",
    "print(confusion_matrix(y_test, pred_nb))\n",
    "\n",
    "y_scores_nb = nb.predict_proba(X_test)[:,1]\n",
    "auroc_nb = roc_auc_score(y_test, y_scores_nb)\n",
    "print(auroc_nb)"
   ]
  },
  {
   "cell_type": "code",
   "execution_count": 33,
   "metadata": {},
   "outputs": [
    {
     "name": "stdout",
     "output_type": "stream",
     "text": [
      "[0.87315205 0.88186904 0.87119406 0.86048239 0.88926999]\n",
      "Mean cross validation test score: 0.8751935069699194\n",
      "Mean cross validation train score: 0.8699778049219329\n",
      "Standard deviation in cv test scores: 0.009790712059431786\n"
     ]
    }
   ],
   "source": [
    "from sklearn.model_selection import cross_val_score\n",
    "cv_scores_test= cross_val_score(nb,X_test,y_test,cv=5,scoring='roc_auc')\n",
    "cv_scores_train= cross_val_score(nb,X_train,y_train,cv=5,scoring='roc_auc')\n",
    "print(cv_scores_test)\n",
    "cv_scores_nb_test= cv_scores_test.mean()\n",
    "cv_scores_nb_train= cv_scores_train.mean()\n",
    "cv_scores_std_test_nb= cv_scores_test.std()\n",
    "print ('Mean cross validation test score: ' +str(cv_scores_nb_test))\n",
    "print ('Mean cross validation train score: ' +str(cv_scores_nb_train))\n",
    "print ('Standard deviation in cv test scores: ' +str(cv_scores_std_test_nb))"
   ]
  },
  {
   "cell_type": "markdown",
   "metadata": {},
   "source": [
    "# XGBoost Model"
   ]
  },
  {
   "cell_type": "code",
   "execution_count": 76,
   "metadata": {},
   "outputs": [
    {
     "name": "stdout",
     "output_type": "stream",
     "text": [
      "Collecting xgboost\n",
      "  Downloading xgboost-2.0.1-py3-none-macosx_10_15_x86_64.macosx_11_0_x86_64.macosx_12_0_x86_64.whl (2.2 MB)\n",
      "\u001b[2K     \u001b[90m━━━━━━━━━━━━━━━━━━━━━━━━━━━━━━━━━━━━━━━━\u001b[0m \u001b[32m2.2/2.2 MB\u001b[0m \u001b[31m6.3 MB/s\u001b[0m eta \u001b[36m0:00:00\u001b[0m00:01\u001b[0m00:01\u001b[0m\n",
      "\u001b[?25hRequirement already satisfied: scipy in /Users/sabitabaral/opt/anaconda3/lib/python3.9/site-packages (from xgboost) (1.9.1)\n",
      "Requirement already satisfied: numpy in /Users/sabitabaral/opt/anaconda3/lib/python3.9/site-packages (from xgboost) (1.24.4)\n",
      "Installing collected packages: xgboost\n",
      "Successfully installed xgboost-2.0.1\n",
      "Note: you may need to restart the kernel to use updated packages.\n"
     ]
    }
   ],
   "source": [
    "!pip install xgboost"
   ]
  },
  {
   "cell_type": "code",
   "execution_count": 39,
   "metadata": {},
   "outputs": [
    {
     "name": "stdout",
     "output_type": "stream",
     "text": [
      "0.9826401320616287\n"
     ]
    }
   ],
   "source": [
    "import xgboost as xgb\n",
    "from sklearn.model_selection import train_test_split\n",
    "from sklearn.metrics import accuracy_score\n",
    "X = df.drop(columns=['WnvPresent'])\n",
    "y = df['WnvPresent']\n",
    "X_train, X_test, y_train, y_test = train_test_split(X_resampled, y_resampled, test_size=0.3, random_state=42)\n",
    "params = {\n",
    "    'objective': 'binary:logistic', \n",
    "    'max_depth': 3,                  \n",
    "    'learning_rate': 0.1,            \n",
    "    'n_estimators': 100,             \n",
    "    'eval_metric': 'logloss'        \n",
    "}\n",
    "dtrain = xgb.DMatrix(X_train, label=y_train)\n",
    "dtest = xgb.DMatrix(X_test, label=y_test)\n",
    "\n",
    "xgb_model = xgb.train(params, dtrain, num_boost_round=100)\n",
    "\n",
    "raw_scores = xgb_model.predict(dtest)\n",
    "\n",
    "# Apply sigmoid function to get probabilities\n",
    "probabilities = 1 / (1 + np.exp(-raw_scores))\n",
    "\n",
    "auroc_xgb = roc_auc_score(y_test, probabilities)\n",
    "print(auroc_xgb)"
   ]
  },
  {
   "cell_type": "markdown",
   "metadata": {},
   "source": [
    "# Comparison of Models"
   ]
  },
  {
   "cell_type": "code",
   "execution_count": 46,
   "metadata": {},
   "outputs": [
    {
     "name": "stdout",
     "output_type": "stream",
     "text": [
      "             Algorithm  Model accuracy score\n",
      "0  Logistic Regression              0.768522\n",
      "1                  KNN              0.904069\n",
      "2                  SVM              0.810064\n",
      "3        Random Forest              0.879443\n",
      "4       Gradient Boost              0.932976\n",
      "5          Naive Bayes              0.731263\n",
      "             Algorithm  train score  test score\n",
      "0  Logistic Regression     0.876087    0.836011\n",
      "1                  KNN     0.952782    0.924186\n",
      "2                  SVM     0.895374    0.888673\n",
      "3        Random Forest     0.945720    0.947673\n",
      "4       Gradient Boost     0.981097    0.980451\n",
      "5          Naive Bayes     0.869978    0.875194\n",
      "             Algorithm  ROC-AUC score\n",
      "0  Logistic Regression       0.867768\n",
      "1                  KNN       0.962593\n",
      "2                  SVM       0.962593\n",
      "3        Random Forest       0.947915\n",
      "4       Gradient Boost       0.983510\n",
      "5          Naive Bayes       0.878837\n",
      "6              XGBoost       0.982640\n"
     ]
    }
   ],
   "source": [
    "models = [ 'Logistic Regression','KNN', 'SVM', 'Random Forest','Gradient Boost', 'Naive Bayes']\n",
    "models2 = [ 'Logistic Regression','KNN','SVM', 'Random Forest','Gradient Boost', 'Naive Bayes', 'XGBoost']\n",
    "score_test= [  cv_scores_lr_test,cv_scores_knn_test,cv_scores_svm_test, cv_scores_rf_test,cv_scores_gbc_test,cv_scores_nb_test]\n",
    "score_train= [  cv_scores_lr_train,cv_scores_knn_train,cv_scores_svm_train, cv_scores_rf_train,cv_scores_gbc_train,cv_scores_nb_train]\n",
    "Accuracy_score = [Accuracy_lr,Accuracy_knn, Accuracy_svm, Accuracy_rf,Accuracy_gbc,Accuracy_nb]\n",
    "\n",
    "auroc_score = [auroc_lr, auroc_knn, auroc_svm, auroc_rf, auroc_gbc, auroc_nb, auroc_xgb]\n",
    "\n",
    "score_tab_auroc = pd.DataFrame(list(zip(models2, auroc_score)), \n",
    "               columns =['Algorithm', 'ROC-AUC score']) \n",
    "\n",
    "score_tab_acc = pd.DataFrame(list(zip(models2, Accuracy_score)), \n",
    "               columns =['Algorithm', 'Model accuracy score']) \n",
    "\n",
    "score_tab = pd.DataFrame(list(zip(models, score_train, score_test)), \n",
    "               columns =['Algorithm','train score', 'test score' ]) \n",
    "print(score_tab_acc)\n",
    "\n",
    "print(score_tab)\n",
    "\n",
    "print(score_tab_auroc)"
   ]
  },
  {
   "cell_type": "code",
   "execution_count": 44,
   "metadata": {},
   "outputs": [
    {
     "data": {
      "image/png": "[encoded data removed]",
      "text/plain": [
       "<Figure size 1000x500 with 1 Axes>"
      ]
     },
     "metadata": {},
     "output_type": "display_data"
    }
   ],
   "source": [
    "plt.figure(figsize=(10,5))\n",
    "plt.bar(models2,auroc_score,color='coral',alpha=0.8,label='ROC AUC SCORE',edgecolor='k',width=0.3)\n",
    "plt.xlabel('Models',fontsize=15)\n",
    "plt.ylabel ('Model ROC-AUC scores',fontsize=15)\n",
    "plt.title('Comparison of the algorithms',fontsize=15)\n",
    "plt.legend()\n",
    "plt.show()"
   ]
  },
  {
   "cell_type": "markdown",
   "metadata": {},
   "source": [
    "### Gradient Boost model turned out to be the  best model with ROC AUC score of 0.983510.  This model also has largets train score, test score and accuracy score."
   ]
  },
  {
   "cell_type": "code",
   "execution_count": 45,
   "metadata": {},
   "outputs": [
    {
     "data": {
      "image/png": "[encoded data removed]",
      "text/plain": [
       "<Figure size 1000x500 with 1 Axes>"
      ]
     },
     "metadata": {},
     "output_type": "display_data"
    }
   ],
   "source": [
    "plt.figure(figsize=(10,5))\n",
    "plt.bar(models,Accuracy_score,color='green',alpha=0.8,label='Accuracy score',edgecolor='k',width=0.3)\n",
    "plt.xlabel('Models',fontsize=15)\n",
    "plt.ylabel ('Model Accuracy score',fontsize=15)\n",
    "plt.title('Comparison of the algorithms',fontsize=15)\n",
    "plt.legend()\n",
    "plt.show()"
   ]
  },
  {
   "cell_type": "code",
   "execution_count": 52,
   "metadata": {},
   "outputs": [
    {
     "data": {
      "image/png": "[encoded data removed]",
      "text/plain": [
       "<Figure size 1000x500 with 1 Axes>"
      ]
     },
     "metadata": {},
     "output_type": "display_data"
    }
   ],
   "source": [
    "plt.figure(figsize=(10,5))\n",
    "plt.xlabel('Models',fontsize=15)\n",
    "plt.ylabel ('ROC-AUC scores',fontsize=15)\n",
    "plt.title('Comparison of the algorithms',fontsize=15)\n",
    "plt.bar(models,score_train,color='b',alpha=0.6,label='Training score',edgecolor='k',width=0.2)\n",
    "plt.bar(models,score_test,color='cyan',alpha=0.8,label='Test score',edgecolor='k',width=0.2)\n",
    "#plt.xticks([1, 2,3,4,5, 6], models)\n",
    "plt.legend()\n",
    "plt.savefig(\"27.png\")\n",
    "plt.show()"
   ]
  },
  {
   "cell_type": "markdown",
   "metadata": {},
   "source": [
    "#  Gradient Boosting Models is performing better. Next, I will do Hyperparameter Tuning with Gradient Boosting."
   ]
  },
  {
   "cell_type": "markdown",
   "metadata": {},
   "source": [
    "## Parameter Tuning"
   ]
  },
  {
   "cell_type": "code",
   "execution_count": 54,
   "metadata": {},
   "outputs": [
    {
     "name": "stdout",
     "output_type": "stream",
     "text": [
      "Fitting 3 folds for each of 72 candidates, totalling 216 fits\n",
      "GradientBoostingClassifier(max_depth=8, max_features=0.3, min_samples_leaf=100,\n",
      "                           n_estimators=300)\n",
      "0.9628238247413466\n"
     ]
    }
   ],
   "source": [
    "GB = GradientBoostingClassifier()\n",
    "gb_param = {\n",
    "        'loss' : [\"deviance\"],\n",
    "        'n_estimators' : [100,200,300],\n",
    "        'learning_rate': [0.1, 0.05, 0.01],\n",
    "        'max_depth': [4, 8],\n",
    "        'min_samples_leaf': [100,150],\n",
    "        'max_features': [0.3, 0.1] \n",
    "        }\n",
    "\n",
    "gsGB = GridSearchCV(GB, param_grid = gb_param, cv=3, scoring=\"accuracy\", verbose = 1)\n",
    "gsGB.fit(X_train,y_train)\n",
    "print(gsGB.best_estimator_)\n",
    "print(gsGB.best_score_)"
   ]
  },
  {
   "cell_type": "markdown",
   "metadata": {},
   "source": [
    "## Fitting the model with optimal parameters"
   ]
  },
  {
   "cell_type": "code",
   "execution_count": 56,
   "metadata": {},
   "outputs": [
    {
     "name": "stdout",
     "output_type": "stream",
     "text": [
      "0.9732334047109208\n",
      "0.9894185619955979\n",
      "0.9963860968451944\n"
     ]
    }
   ],
   "source": [
    "GB = GradientBoostingClassifier(max_depth=8, max_features=0.3, min_samples_leaf=100,\n",
    "                           n_estimators=300)\n",
    "GB.fit(X_train, y_train)\n",
    "y_predictions_GB = GB.predict(X_test)\n",
    "acc_GB = accuracy_score(y_test, y_predictions_GB)\n",
    "cv_GB = cross_val_score(GB, X_test, y_test,scoring='roc_auc').mean()\n",
    "print(acc_GB)\n",
    "print(cv_GB)\n",
    "\n",
    "y_scores_GB = GB.predict_proba(X_test)[:,1]\n",
    "auroc_GB = roc_auc_score(y_test, y_scores_GB)\n",
    "print(auroc_GB)"
   ]
  },
  {
   "cell_type": "markdown",
   "metadata": {},
   "source": [
    "### Hence performing hyperparameter tuning ROC AUC score increased from 0.983510 to 0.9963860968451944."
   ]
  },
  {
   "cell_type": "markdown",
   "metadata": {},
   "source": [
    "### ROC Curve"
   ]
  },
  {
   "cell_type": "code",
   "execution_count": 61,
   "metadata": {},
   "outputs": [
    {
     "data": {
      "image/png": "[encoded data removed]",
      "text/plain": [
       "<Figure size 1000x500 with 1 Axes>"
      ]
     },
     "metadata": {},
     "output_type": "display_data"
    }
   ],
   "source": [
    "false_positive_rate, true_positive_rate, thresholds = roc_curve(y_test, y_scores_gb)\n",
    "def plot_roc_curve(false_positive_rate, true_positive_rate, label=None):\n",
    "    plt.plot(false_positive_rate, true_positive_rate, linewidth=2, label=label)\n",
    "    plt.plot([0, 1], [0, 1], 'r', linewidth=4)\n",
    "    plt.axis([0, 1, 0, 1])\n",
    "    plt.xlabel('False Positive Rate (FPR)', fontsize=15)\n",
    "    plt.ylabel('True Positive Rate (TPR)', fontsize=15)\n",
    "    plt.title('ROC curve (GB)',fontsize=15)\n",
    "\n",
    "plt.figure(figsize=(10, 5))\n",
    "plot_roc_curve(false_positive_rate, true_positive_rate)\n",
    "plt.savefig(\"31.png\")\n",
    "plt.show()"
   ]
  },
  {
   "cell_type": "code",
   "execution_count": 65,
   "metadata": {},
   "outputs": [
    {
     "data": {
      "image/png": "[encoded data removed]",
      "text/plain": [
       "<Figure size 640x480 with 1 Axes>"
      ]
     },
     "metadata": {},
     "output_type": "display_data"
    },
    {
     "data": {
      "text/plain": [
       "<Figure size 1000x500 with 0 Axes>"
      ]
     },
     "metadata": {},
     "output_type": "display_data"
    }
   ],
   "source": [
    "false_positive_rate, true_positive_rate, thresholds = roc_curve(y_test, y_scores_gb)\n",
    "\n",
    "plt.plot(false_positive_rate, true_positive_rate, linewidth=2)\n",
    "plt.plot([0, 1], [0, 1], 'r', linewidth=4)\n",
    "plt.xlabel('False Positive Rate (FPR)', fontsize=15)\n",
    "plt.ylabel('True Positive Rate (TPR)', fontsize=15)\n",
    "plt.title('ROC curve (GB)',fontsize=15)\n",
    "\n",
    "plt.figure(figsize=(10, 5))\n",
    "plt.savefig(\"31.png\")\n",
    "plt.show()"
   ]
  },
  {
   "cell_type": "markdown",
   "metadata": {},
   "source": [
    "## Extracting Feature Importances"
   ]
  },
  {
   "cell_type": "code",
   "execution_count": 57,
   "metadata": {},
   "outputs": [
    {
     "data": {
      "text/html": [
       "<div>\n",
       "<style scoped>\n",
       "    .dataframe tbody tr th:only-of-type {\n",
       "        vertical-align: middle;\n",
       "    }\n",
       "\n",
       "    .dataframe tbody tr th {\n",
       "        vertical-align: top;\n",
       "    }\n",
       "\n",
       "    .dataframe thead th {\n",
       "        text-align: right;\n",
       "    }\n",
       "</style>\n",
       "<table border=\"1\" class=\"dataframe\">\n",
       "  <thead>\n",
       "    <tr style=\"text-align: right;\">\n",
       "      <th></th>\n",
       "      <th>Latitude</th>\n",
       "      <th>Longitude</th>\n",
       "      <th>NumMosquitos</th>\n",
       "      <th>Tmax</th>\n",
       "      <th>Tmin</th>\n",
       "      <th>Tavg</th>\n",
       "      <th>PrecipTotal</th>\n",
       "      <th>StnPressure</th>\n",
       "      <th>SeaLevel</th>\n",
       "      <th>AvgSpeed</th>\n",
       "      <th>WnvPresent</th>\n",
       "      <th>DayOfWeek</th>\n",
       "      <th>WeekNumber</th>\n",
       "      <th>IsWeekend</th>\n",
       "      <th>Quarter</th>\n",
       "      <th>Season</th>\n",
       "      <th>Species_CULEX PIPIENS</th>\n",
       "      <th>Species_CULEX PIPIENS/RESTUANS</th>\n",
       "      <th>Species_CULEX RESTUANS</th>\n",
       "    </tr>\n",
       "  </thead>\n",
       "  <tbody>\n",
       "    <tr>\n",
       "      <th>0</th>\n",
       "      <td>41.644612</td>\n",
       "      <td>-87.604498</td>\n",
       "      <td>12</td>\n",
       "      <td>91.0</td>\n",
       "      <td>71.5</td>\n",
       "      <td>81.5</td>\n",
       "      <td>0.000</td>\n",
       "      <td>29.285</td>\n",
       "      <td>29.960</td>\n",
       "      <td>6.55</td>\n",
       "      <td>0</td>\n",
       "      <td>3</td>\n",
       "      <td>31</td>\n",
       "      <td>0</td>\n",
       "      <td>3</td>\n",
       "      <td>2</td>\n",
       "      <td>1</td>\n",
       "      <td>0</td>\n",
       "      <td>0</td>\n",
       "    </tr>\n",
       "    <tr>\n",
       "      <th>1</th>\n",
       "      <td>41.644612</td>\n",
       "      <td>-87.604498</td>\n",
       "      <td>52</td>\n",
       "      <td>91.5</td>\n",
       "      <td>72.5</td>\n",
       "      <td>82.5</td>\n",
       "      <td>0.685</td>\n",
       "      <td>29.085</td>\n",
       "      <td>29.750</td>\n",
       "      <td>8.90</td>\n",
       "      <td>0</td>\n",
       "      <td>1</td>\n",
       "      <td>32</td>\n",
       "      <td>0</td>\n",
       "      <td>3</td>\n",
       "      <td>2</td>\n",
       "      <td>1</td>\n",
       "      <td>0</td>\n",
       "      <td>0</td>\n",
       "    </tr>\n",
       "    <tr>\n",
       "      <th>2</th>\n",
       "      <td>41.644612</td>\n",
       "      <td>-87.604498</td>\n",
       "      <td>30</td>\n",
       "      <td>80.5</td>\n",
       "      <td>71.5</td>\n",
       "      <td>76.5</td>\n",
       "      <td>0.530</td>\n",
       "      <td>29.200</td>\n",
       "      <td>29.880</td>\n",
       "      <td>6.45</td>\n",
       "      <td>0</td>\n",
       "      <td>2</td>\n",
       "      <td>33</td>\n",
       "      <td>0</td>\n",
       "      <td>3</td>\n",
       "      <td>2</td>\n",
       "      <td>1</td>\n",
       "      <td>0</td>\n",
       "      <td>0</td>\n",
       "    </tr>\n",
       "    <tr>\n",
       "      <th>3</th>\n",
       "      <td>41.644612</td>\n",
       "      <td>-87.604498</td>\n",
       "      <td>4</td>\n",
       "      <td>90.0</td>\n",
       "      <td>69.5</td>\n",
       "      <td>80.0</td>\n",
       "      <td>0.625</td>\n",
       "      <td>29.260</td>\n",
       "      <td>29.935</td>\n",
       "      <td>8.95</td>\n",
       "      <td>0</td>\n",
       "      <td>2</td>\n",
       "      <td>34</td>\n",
       "      <td>0</td>\n",
       "      <td>3</td>\n",
       "      <td>2</td>\n",
       "      <td>1</td>\n",
       "      <td>0</td>\n",
       "      <td>0</td>\n",
       "    </tr>\n",
       "    <tr>\n",
       "      <th>4</th>\n",
       "      <td>41.644612</td>\n",
       "      <td>-87.604498</td>\n",
       "      <td>4</td>\n",
       "      <td>80.5</td>\n",
       "      <td>69.0</td>\n",
       "      <td>75.0</td>\n",
       "      <td>0.220</td>\n",
       "      <td>29.135</td>\n",
       "      <td>29.815</td>\n",
       "      <td>7.20</td>\n",
       "      <td>0</td>\n",
       "      <td>4</td>\n",
       "      <td>34</td>\n",
       "      <td>0</td>\n",
       "      <td>3</td>\n",
       "      <td>2</td>\n",
       "      <td>1</td>\n",
       "      <td>0</td>\n",
       "      <td>0</td>\n",
       "    </tr>\n",
       "    <tr>\n",
       "      <th>...</th>\n",
       "      <td>...</td>\n",
       "      <td>...</td>\n",
       "      <td>...</td>\n",
       "      <td>...</td>\n",
       "      <td>...</td>\n",
       "      <td>...</td>\n",
       "      <td>...</td>\n",
       "      <td>...</td>\n",
       "      <td>...</td>\n",
       "      <td>...</td>\n",
       "      <td>...</td>\n",
       "      <td>...</td>\n",
       "      <td>...</td>\n",
       "      <td>...</td>\n",
       "      <td>...</td>\n",
       "      <td>...</td>\n",
       "      <td>...</td>\n",
       "      <td>...</td>\n",
       "      <td>...</td>\n",
       "    </tr>\n",
       "    <tr>\n",
       "      <th>8164</th>\n",
       "      <td>42.017430</td>\n",
       "      <td>-87.687769</td>\n",
       "      <td>4</td>\n",
       "      <td>70.0</td>\n",
       "      <td>51.0</td>\n",
       "      <td>60.5</td>\n",
       "      <td>0.480</td>\n",
       "      <td>29.235</td>\n",
       "      <td>29.930</td>\n",
       "      <td>7.75</td>\n",
       "      <td>0</td>\n",
       "      <td>4</td>\n",
       "      <td>23</td>\n",
       "      <td>0</td>\n",
       "      <td>2</td>\n",
       "      <td>2</td>\n",
       "      <td>0</td>\n",
       "      <td>0</td>\n",
       "      <td>1</td>\n",
       "    </tr>\n",
       "    <tr>\n",
       "      <th>8165</th>\n",
       "      <td>42.017430</td>\n",
       "      <td>-87.687769</td>\n",
       "      <td>4</td>\n",
       "      <td>82.0</td>\n",
       "      <td>62.0</td>\n",
       "      <td>72.0</td>\n",
       "      <td>0.000</td>\n",
       "      <td>29.155</td>\n",
       "      <td>29.820</td>\n",
       "      <td>6.40</td>\n",
       "      <td>0</td>\n",
       "      <td>4</td>\n",
       "      <td>24</td>\n",
       "      <td>0</td>\n",
       "      <td>2</td>\n",
       "      <td>2</td>\n",
       "      <td>0</td>\n",
       "      <td>0</td>\n",
       "      <td>1</td>\n",
       "    </tr>\n",
       "    <tr>\n",
       "      <th>8166</th>\n",
       "      <td>42.017430</td>\n",
       "      <td>-87.687769</td>\n",
       "      <td>2</td>\n",
       "      <td>88.5</td>\n",
       "      <td>63.0</td>\n",
       "      <td>76.0</td>\n",
       "      <td>0.030</td>\n",
       "      <td>29.310</td>\n",
       "      <td>29.995</td>\n",
       "      <td>10.00</td>\n",
       "      <td>0</td>\n",
       "      <td>3</td>\n",
       "      <td>26</td>\n",
       "      <td>0</td>\n",
       "      <td>2</td>\n",
       "      <td>2</td>\n",
       "      <td>0</td>\n",
       "      <td>0</td>\n",
       "      <td>1</td>\n",
       "    </tr>\n",
       "    <tr>\n",
       "      <th>8167</th>\n",
       "      <td>42.017430</td>\n",
       "      <td>-87.687769</td>\n",
       "      <td>46</td>\n",
       "      <td>89.0</td>\n",
       "      <td>70.5</td>\n",
       "      <td>80.0</td>\n",
       "      <td>0.260</td>\n",
       "      <td>29.150</td>\n",
       "      <td>29.815</td>\n",
       "      <td>8.25</td>\n",
       "      <td>0</td>\n",
       "      <td>0</td>\n",
       "      <td>28</td>\n",
       "      <td>0</td>\n",
       "      <td>3</td>\n",
       "      <td>2</td>\n",
       "      <td>0</td>\n",
       "      <td>0</td>\n",
       "      <td>1</td>\n",
       "    </tr>\n",
       "    <tr>\n",
       "      <th>8168</th>\n",
       "      <td>42.017430</td>\n",
       "      <td>-87.687769</td>\n",
       "      <td>2</td>\n",
       "      <td>86.5</td>\n",
       "      <td>70.5</td>\n",
       "      <td>79.0</td>\n",
       "      <td>0.000</td>\n",
       "      <td>29.300</td>\n",
       "      <td>29.970</td>\n",
       "      <td>6.75</td>\n",
       "      <td>0</td>\n",
       "      <td>4</td>\n",
       "      <td>28</td>\n",
       "      <td>0</td>\n",
       "      <td>3</td>\n",
       "      <td>2</td>\n",
       "      <td>0</td>\n",
       "      <td>0</td>\n",
       "      <td>1</td>\n",
       "    </tr>\n",
       "  </tbody>\n",
       "</table>\n",
       "<p>8169 rows × 19 columns</p>\n",
       "</div>"
      ],
      "text/plain": [
       "       Latitude  Longitude  NumMosquitos  Tmax  Tmin  Tavg  PrecipTotal  \\\n",
       "0     41.644612 -87.604498            12  91.0  71.5  81.5        0.000   \n",
       "1     41.644612 -87.604498            52  91.5  72.5  82.5        0.685   \n",
       "2     41.644612 -87.604498            30  80.5  71.5  76.5        0.530   \n",
       "3     41.644612 -87.604498             4  90.0  69.5  80.0        0.625   \n",
       "4     41.644612 -87.604498             4  80.5  69.0  75.0        0.220   \n",
       "...         ...        ...           ...   ...   ...   ...          ...   \n",
       "8164  42.017430 -87.687769             4  70.0  51.0  60.5        0.480   \n",
       "8165  42.017430 -87.687769             4  82.0  62.0  72.0        0.000   \n",
       "8166  42.017430 -87.687769             2  88.5  63.0  76.0        0.030   \n",
       "8167  42.017430 -87.687769            46  89.0  70.5  80.0        0.260   \n",
       "8168  42.017430 -87.687769             2  86.5  70.5  79.0        0.000   \n",
       "\n",
       "      StnPressure  SeaLevel  AvgSpeed  WnvPresent  DayOfWeek  WeekNumber  \\\n",
       "0          29.285    29.960      6.55           0          3          31   \n",
       "1          29.085    29.750      8.90           0          1          32   \n",
       "2          29.200    29.880      6.45           0          2          33   \n",
       "3          29.260    29.935      8.95           0          2          34   \n",
       "4          29.135    29.815      7.20           0          4          34   \n",
       "...           ...       ...       ...         ...        ...         ...   \n",
       "8164       29.235    29.930      7.75           0          4          23   \n",
       "8165       29.155    29.820      6.40           0          4          24   \n",
       "8166       29.310    29.995     10.00           0          3          26   \n",
       "8167       29.150    29.815      8.25           0          0          28   \n",
       "8168       29.300    29.970      6.75           0          4          28   \n",
       "\n",
       "      IsWeekend  Quarter  Season  Species_CULEX PIPIENS  \\\n",
       "0             0        3       2                      1   \n",
       "1             0        3       2                      1   \n",
       "2             0        3       2                      1   \n",
       "3             0        3       2                      1   \n",
       "4             0        3       2                      1   \n",
       "...         ...      ...     ...                    ...   \n",
       "8164          0        2       2                      0   \n",
       "8165          0        2       2                      0   \n",
       "8166          0        2       2                      0   \n",
       "8167          0        3       2                      0   \n",
       "8168          0        3       2                      0   \n",
       "\n",
       "      Species_CULEX PIPIENS/RESTUANS  Species_CULEX RESTUANS  \n",
       "0                                  0                       0  \n",
       "1                                  0                       0  \n",
       "2                                  0                       0  \n",
       "3                                  0                       0  \n",
       "4                                  0                       0  \n",
       "...                              ...                     ...  \n",
       "8164                               0                       1  \n",
       "8165                               0                       1  \n",
       "8166                               0                       1  \n",
       "8167                               0                       1  \n",
       "8168                               0                       1  \n",
       "\n",
       "[8169 rows x 19 columns]"
      ]
     },
     "execution_count": 57,
     "metadata": {},
     "output_type": "execute_result"
    }
   ],
   "source": [
    "df"
   ]
  },
  {
   "cell_type": "code",
   "execution_count": 58,
   "metadata": {},
   "outputs": [
    {
     "name": "stdout",
     "output_type": "stream",
     "text": [
      "                          Features  Importance scores\n",
      "0                         Latitude           0.000000\n",
      "1                        Longitude           0.007790\n",
      "2                     NumMosquitos           0.013524\n",
      "3                             Tmax           0.016907\n",
      "4                             Tmin           0.019560\n",
      "5                             Tavg           0.030393\n",
      "6                      PrecipTotal           0.030890\n",
      "7                      StnPressure           0.033231\n",
      "8                         SeaLevel           0.037664\n",
      "9                         AvgSpeed           0.037724\n",
      "10                       DayOfWeek           0.038552\n",
      "11                      WeekNumber           0.046223\n",
      "12                       IsWeekend           0.046312\n",
      "13                         Quarter           0.072385\n",
      "14                          Season           0.074737\n",
      "15           Species_CULEX PIPIENS           0.098923\n",
      "16  Species_CULEX PIPIENS/RESTUANS           0.137242\n",
      "17          Species_CULEX RESTUANS           0.257944\n"
     ]
    },
    {
     "data": {
      "image/png": "[encoded data removed]",
      "text/plain": [
       "<Figure size 1000x500 with 1 Axes>"
      ]
     },
     "metadata": {},
     "output_type": "display_data"
    }
   ],
   "source": [
    "features = X\n",
    "importances = list(GB.feature_importances_)\n",
    "imp=np.sort(importances)\n",
    "tab=pd.DataFrame(list(zip(X,imp)),columns =['Features', 'Importance scores']) \n",
    "print(tab)\n",
    "\n",
    "#visually:\n",
    "plt.figure(figsize=(10,5))\n",
    "#indices = np.argsort(importances)\n",
    "index = [0,1,2,3,4,5,6,7,8,9,10,11,12,13,14,15,16,17]\n",
    "_=plt.barh(index,imp, align='center',color='gold',edgecolor='k')\n",
    "plt.xlabel('Relative Importance',fontsize=15)\n",
    "plt.ylabel('Features',fontsize=15)\n",
    "plt.yticks(index, features)\n",
    "plt.title('Feature Importances for Gradient boost Classifier model',fontsize=15)\n",
    "plt.savefig(\"29.png\")\n",
    "plt.show()"
   ]
  }
 ],
 "metadata": {
  "kernelspec": {
   "display_name": "Python 3 (ipykernel)",
   "language": "python",
   "name": "python3"
  },
  "language_info": {
   "codemirror_mode": {
    "name": "ipython",
    "version": 3
   },
   "file_extension": ".py",
   "mimetype": "text/x-python",
   "name": "python",
   "nbconvert_exporter": "python",
   "pygments_lexer": "ipython3",
   "version": "3.9.13"
  }
 },
 "nbformat": 4,
 "nbformat_minor": 1
}
